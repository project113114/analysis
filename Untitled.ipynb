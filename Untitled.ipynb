{
 "cells": [
  {
   "cell_type": "code",
   "execution_count": 18,
   "id": "2be0b792",
   "metadata": {},
   "outputs": [],
   "source": [
    "import psutil\n",
    "import pandas as pd \n",
    "import matplotlib.pyplot as plt\n",
    "import time0,2021-05-09 14:05:06,\"14,823.15\",\"49,206.47\",89.1880,73.3000"
   ]
  },
  {
   "cell_type": "code",
   "execution_count": 36,
   "id": "a7911ad8",
   "metadata": {},
   "outputs": [],
   "source": [
    "%matplotlib notebook\n",
    "plt.rcParams['animation.html'] = 'jshtml'"
   ]
  },
  {
   "cell_type": "code",
   "execution_count": 43,
   "id": "ccbf05e1",
   "metadata": {},
   "outputs": [
    {
     "name": "stdout",
     "output_type": "stream",
     "text": [
      "0,2021-05-09 14:04:44,\"14,823.15\",\"49,206.47\",89.1880,73.3000\n",
      "0,2021-05-09 14:05:06,\"14,823.15\",\"49,206.47\",89.1880,73.3000\n",
      "0,2021-05-09 14:05:26,\"14,823.15\",\"49,206.47\",89.1880,73.3000\n",
      "0,2021-05-09 14:05:43,\"14,823.15\",\"49,206.47\",89.1880,73.3000\n",
      "0,2021-05-09 14:06:01,\"14,823.15\",\"49,206.47\",89.1880,73.3000\n",
      "0,2021-05-09 14:06:18,\"14,823.15\",\"49,206.47\",89.1880,73.3000\n",
      "0,2021-05-09 14:06:32,\"14,823.15\",\"49,206.47\",89.1880,73.3000\n",
      "0,2021-05-09 14:06:51,\"14,823.15\",\"49,206.47\",89.1880,73.3000\n",
      "\n"
     ]
    }
   ],
   "source": [
    "f = open('data.csv')\n",
    "print(f.read())"
   ]
  }
 ],
 "metadata": {
  "kernelspec": {
   "display_name": "Python 3",
   "language": "python",
   "name": "python3"
  },
  "language_info": {
   "codemirror_mode": {
    "name": "ipython",
    "version": 3
   },
   "file_extension": ".py",
   "mimetype": "text/x-python",
   "name": "python",
   "nbconvert_exporter": "python",
   "pygments_lexer": "ipython3",
   "version": "3.9.4"
  }
 },
 "nbformat": 4,
 "nbformat_minor": 5
}
